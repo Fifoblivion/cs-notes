{
 "cells": [
  {
   "cell_type": "markdown",
   "metadata": {},
   "source": [
    "# Namespaces and Scope\n",
    "\n",
    "## Namespace\n",
    "\n",
    "* __Namespace__ is a system to have a unique name for each and every object in Python\n",
    "* Object might be a variable or a method\n",
    "* Python itself maintains a namespace in the form of a Python dictionary\n",
    "* __Name__ (which means name, an unique identifier) + __Space__ (which talks something related to scope)\n",
    "* a name might be of any Python method or variable and space depends upon the location from where is trying to access it\n",
    "\n",
    "## Types of Namespaces\n",
    "\n",
    "* The built-in namespace encompasses __global namespace__ and global namespace encompasses __local namespace__.\n",
    "* global namespace: \n",
    "    - Some functions like `print()`, `id()` are always present\n",
    "    - When a user creates a module, a global namespace gets created\n",
    "* local namespace - local functions\n",
    "\n",
    "<p align=\"center\">\n",
    "<img src=\"resources/types_namespace.png\" alt=\"types_namespace\" width=\"300\"/>\n",
    "</p>\n",
    "\n",
    "## Lifespan of a Namespace\n",
    "\n",
    "* A lifetime of a namespace depends upon the scope of objects\n",
    "* If the scope of an object ends, the lifetime of that namespace comes to an end\n",
    "* It is not possible to access inner namespace’s objects from an outer namespace"
   ]
  },
  {
   "cell_type": "code",
   "execution_count": 1,
   "metadata": {},
   "outputs": [],
   "source": [
    "# var1 is in the global namespace \n",
    "var1 = 5\n",
    "def some_func():\n",
    "    # var2 is in the local namespace \n",
    "    var2 = 6\n",
    "    \n",
    "    def some_inner_func():\n",
    "        # var3 is in the nested local namespace \n",
    "        var3 = 7"
   ]
  },
  {
   "cell_type": "code",
   "execution_count": 2,
   "metadata": {},
   "outputs": [
    {
     "data": {
      "text/plain": [
       "5"
      ]
     },
     "execution_count": 2,
     "metadata": {},
     "output_type": "execute_result"
    }
   ],
   "source": [
    "var1"
   ]
  },
  {
   "cell_type": "code",
   "execution_count": 3,
   "metadata": {},
   "outputs": [
    {
     "ename": "NameError",
     "evalue": "name 'var2' is not defined",
     "output_type": "error",
     "traceback": [
      "\u001b[0;31m---------------------------------------------------------------------------\u001b[0m",
      "\u001b[0;31mNameError\u001b[0m                                 Traceback (most recent call last)",
      "\u001b[0;32m<ipython-input-3-5395c735b10d>\u001b[0m in \u001b[0;36m<module>\u001b[0;34m\u001b[0m\n\u001b[0;32m----> 1\u001b[0;31m \u001b[0mvar2\u001b[0m\u001b[0;34m\u001b[0m\u001b[0;34m\u001b[0m\u001b[0m\n\u001b[0m",
      "\u001b[0;31mNameError\u001b[0m: name 'var2' is not defined"
     ]
    }
   ],
   "source": [
    "var2"
   ]
  },
  {
   "cell_type": "code",
   "execution_count": 4,
   "metadata": {},
   "outputs": [
    {
     "ename": "NameError",
     "evalue": "name 'var3' is not defined",
     "output_type": "error",
     "traceback": [
      "\u001b[0;31m---------------------------------------------------------------------------\u001b[0m",
      "\u001b[0;31mNameError\u001b[0m                                 Traceback (most recent call last)",
      "\u001b[0;32m<ipython-input-4-a6c6f8d374f4>\u001b[0m in \u001b[0;36m<module>\u001b[0;34m\u001b[0m\n\u001b[0;32m----> 1\u001b[0;31m \u001b[0mvar3\u001b[0m\u001b[0;34m\u001b[0m\u001b[0;34m\u001b[0m\u001b[0m\n\u001b[0m",
      "\u001b[0;31mNameError\u001b[0m: name 'var3' is not defined"
     ]
    }
   ],
   "source": [
    "var3"
   ]
  },
  {
   "cell_type": "markdown",
   "metadata": {},
   "source": []
  }
 ],
 "metadata": {
  "kernelspec": {
   "display_name": "Python 3",
   "language": "python",
   "name": "python3"
  },
  "language_info": {
   "codemirror_mode": {
    "name": "ipython",
    "version": 3
   },
   "file_extension": ".py",
   "mimetype": "text/x-python",
   "name": "python",
   "nbconvert_exporter": "python",
   "pygments_lexer": "ipython3",
   "version": "3.7.6"
  }
 },
 "nbformat": 4,
 "nbformat_minor": 4
}
