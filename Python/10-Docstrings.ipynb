{
 "cells": [
  {
   "cell_type": "markdown",
   "metadata": {},
   "source": [
    "# Docstrings & It's Conventions\n",
    "\n",
    "\n",
    "## Introduction\n",
    "\n",
    "* Documentation strings (or docstrings) provide a convenient way of **associating documentation with Python modules, functions, classes, and methods**\n",
    "* Unlike conventional source code comments, the docstring should **describe what the function does, not how**\n",
    "* Such a docstring becomes the `__doc__` special attribute of that object.\n",
    "\n",
    "\n",
    "## Where\n",
    "\n",
    "1. All modules\n",
    "2. All functions and classes exported by a module \n",
    "3. Public methods (including the `__init__` constructor)\n",
    "4. A package may be documented in the module docstring of the `__init__.py` file in the package directory\n",
    "\n",
    "* String literals occurring elsewhere in Python code may also act as documentation. \n",
    "* But **not recognized** by the Python bytecode compiler and are not accessible as runtime object attributes (i.e. `__doc__`)\n",
    "\n",
    "\n",
    "## How\n",
    "\n",
    "* For consistency, always use `\"\"\"triple double quotes\"\"\"` around docstrings\n",
    "* Use `r\"\"\"raw triple double quotes\"\"\"` if you use any backslashes in your docstrings\n",
    "* Unicode docstrings, use `u\"\"\"Unicode triple-quoted strings\"\"\"`\n",
    "\n",
    "## One-line Docstrings\n",
    "\n",
    "* Triple quotes are used even though the string fits on one line. This makes it easy to later expand it.\n",
    "* The closing quotes are on the same line as the opening quotes. This looks better for one-liners.\n",
    "* There's no blank line either before or after the docstring.\n",
    "* The docstring is a phrase ending in a period. \n",
    "* It prescribes the function or method's effect as a **command** (\"Do this\", \"Return that\"), not as a description; e.g. don't write \"Returns the pathname ...\".\n",
    "* E.g.:"
   ]
  },
  {
   "cell_type": "code",
   "execution_count": 1,
   "metadata": {},
   "outputs": [],
   "source": [
    "def kos_root():\n",
    "    \"\"\"Return the pathname of the KOS root directory.\"\"\"\n",
    "    global _kos_root\n",
    "    if _kos_root: \n",
    "        return _kos_root"
   ]
  },
  {
   "cell_type": "markdown",
   "metadata": {},
   "source": [
    "* The one-line docstring should NOT be a \"signature\" reiterating the function/method parameters (which can be obtained by introspection). Don't do:"
   ]
  },
  {
   "cell_type": "code",
   "execution_count": 2,
   "metadata": {},
   "outputs": [],
   "source": [
    "def function(a, b):\n",
    "    \"\"\"function(a, b) -> list\"\"\" # Wrong"
   ]
  },
  {
   "cell_type": "markdown",
   "metadata": {},
   "source": [
    "* This type of docstring is only appropriate for C functions (such as built-ins), where introspection is not possible. \n",
    "* However, if the nature of the return value cannot be determined by introspection, so it should be mentioned. The preferred form for such a docstring would be something like:"
   ]
  },
  {
   "cell_type": "code",
   "execution_count": 3,
   "metadata": {},
   "outputs": [],
   "source": [
    "def function(a, b):\n",
    "    \"\"\"Do X and return a list.\"\"\" # Of course \"Do X\" should be replaced by a useful description!"
   ]
  },
  {
   "cell_type": "markdown",
   "metadata": {},
   "source": [
    "## Multi-line Docstrings\n",
    "\n",
    "\n",
    "### Functions\n",
    "\n",
    "* consist of:\n",
    "    1. a summary line, \n",
    "    2. followed by a blank line, \n",
    "    3. followed by a more elaborate description\n",
    "* The summary line may be on the same line as the opening quotes or on the next line\n",
    "* The entire docstring is indented the same as the quotes at its first line:"
   ]
  },
  {
   "cell_type": "code",
   "execution_count": 4,
   "metadata": {},
   "outputs": [],
   "source": [
    "def complex(real=0.0, imag=0.0):\n",
    "    \"\"\"Form a complex number.\n",
    "\n",
    "    Keyword arguments:\n",
    "    real -- the real part (default 0.0)\n",
    "    imag -- the imaginary part (default 0.0)\n",
    "    \"\"\"\n",
    "    if imag == 0.0 and real == 0.0:\n",
    "        return complex_zero"
   ]
  },
  {
   "cell_type": "markdown",
   "metadata": {},
   "source": [
    "### Classes\n",
    "\n",
    "* Insert a blank line after all docstrings (one-line or multi-line) that document a class \n",
    "* the class's methods are separated from each other by a single blank line, and the docstring needs to be offset from the first method by a blank line."
   ]
  },
  {
   "cell_type": "code",
   "execution_count": 6,
   "metadata": {},
   "outputs": [],
   "source": [
    "class complex:\n",
    "    \"\"\"Form a complex number\"\"\"\n",
    "    \n",
    "    def real_to_complex(real=0.0, imag=0.0):\n",
    "        \"\"\"Convert a real number to a complex number\n",
    "        \n",
    "        Keyword arguments:\n",
    "        real -- the real part (default 0.0)\n",
    "        imag -- the imaginary part (default 0.0)\n",
    "        \"\"\"\n",
    "        if imag == 0.0 and real == 0.0:\n",
    "            return complex_zero"
   ]
  },
  {
   "cell_type": "markdown",
   "metadata": {},
   "source": [
    "### Scripts/Stand-alone programs\n",
    "\n",
    "* The docstring of a script should be usable as its \"usage\" message, printed when the script is invoked with incorrect or missing arguments (or perhaps with a \"-h\" option, for \"help\"). \n",
    "* Such a docstring should document:\n",
    "    1. the script's function, \n",
    "    2. command line syntax, \n",
    "    3. environment variables, and \n",
    "    4. files. \n",
    "* Usage messages can be fairly elaborate (several screens full) and should be sufficient for a new user to use the command properly, as well as a complete quick reference to all options and arguments for the sophisticated user."
   ]
  },
  {
   "cell_type": "markdown",
   "metadata": {},
   "source": [
    "## Summary\n",
    "\n",
    "1. The doc string line should begin with a capital letter and end with a period.\n",
    "2. The first line should be a short description.\n",
    "3. If there are more lines in the documentation string, the second line should be blank, visually separating the summary from the rest of the description.\n",
    "4. The following lines should be one or more paragraphs describing the object’s calling conventions, its side effects, etc."
   ]
  },
  {
   "cell_type": "markdown",
   "metadata": {},
   "source": [
    "## References\n",
    "\n",
    "1. [PEP 257](https://www.python.org/dev/peps/pep-0257/)"
   ]
  }
 ],
 "metadata": {
  "kernelspec": {
   "display_name": "Python 3",
   "language": "python",
   "name": "python3"
  },
  "language_info": {
   "codemirror_mode": {
    "name": "ipython",
    "version": 3
   },
   "file_extension": ".py",
   "mimetype": "text/x-python",
   "name": "python",
   "nbconvert_exporter": "python",
   "pygments_lexer": "ipython3",
   "version": "3.7.6"
  }
 },
 "nbformat": 4,
 "nbformat_minor": 4
}
