{
 "cells": [
  {
   "cell_type": "markdown",
   "metadata": {},
   "source": [
    "# NumPy - Introduction\n",
    "\n",
    "* Stands for Numerical Python\n",
    "* Library consisting of multidimensional array objects and a collection of routines for processing of array\n",
    "\n",
    "## Operations\n",
    "\n",
    "* Mathematical and logical operations on arrays\n",
    "* Fourier transforms and routines for shape manipulation\n",
    "* Operations related to linear algebra."
   ]
  },
  {
   "cell_type": "code",
   "execution_count": null,
   "metadata": {},
   "outputs": [],
   "source": []
  }
 ],
 "metadata": {
  "kernelspec": {
   "display_name": "Python 3",
   "language": "python",
   "name": "python3"
  },
  "language_info": {
   "codemirror_mode": {
    "name": "ipython",
    "version": 3
   },
   "file_extension": ".py",
   "mimetype": "text/x-python",
   "name": "python",
   "nbconvert_exporter": "python",
   "pygments_lexer": "ipython3",
   "version": "3.7.6"
  }
 },
 "nbformat": 4,
 "nbformat_minor": 2
}
